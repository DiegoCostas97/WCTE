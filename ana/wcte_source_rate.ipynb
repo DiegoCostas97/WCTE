{
 "cells": [
  {
   "cell_type": "markdown",
   "metadata": {},
   "source": [
    "# Computation of source rate"
   ]
  },
  {
   "cell_type": "code",
   "execution_count": null,
   "metadata": {},
   "outputs": [],
   "source": [
    "import h5py\n",
    "import pandas as pd\n",
    "import numpy as np\n",
    "import matplotlib\n",
    "import matplotlib.pyplot as plt\n",
    "import seaborn as sns\n",
    "\n",
    "from matplotlib.patches import Ellipse"
   ]
  },
  {
   "cell_type": "markdown",
   "metadata": {},
   "source": [
    "# 1. Determine the spectrum of SPEs vs. gamma energy"
   ]
  },
  {
   "cell_type": "markdown",
   "metadata": {},
   "source": [
    "### Read in the simulated PMT responses\n",
    "The ROOT script `read_PMT.C` prints key information from the ROOT file output by Geant4. This can then be read in as a Pandas DataFrame and saved in a compressed .h5 file."
   ]
  },
  {
   "cell_type": "code",
   "execution_count": null,
   "metadata": {},
   "outputs": [],
   "source": [
    "initial_read = False\n",
    "h5file = '/home/jrenner/local/hk/WCSim/WCSim_build/hits_NuPRISMBeamTest_mPMT.h5'\n",
    "\n",
    "if(initial_read):\n",
    "    \n",
    "    # Read files containing the PMT coordinates and the simulated hits into Pandas dataframes.\n",
    "    print(\"Reading files into dataframes...\")\n",
    "    df_pmt     = pd.read_csv('/home/jrenner/local/hk/WCSim/WCSim_build/NuPRISMBeamTest_mPMT_geom.dat', delimiter = \" \")\n",
    "    df_photons = pd.read_csv('/home/jrenner/local/hk/WCSim/WCSim_build/hits_NuPRISMBeamTest_mPMT.dat', delimiter = \" \")\n",
    "\n",
    "    # Output the dataframes to HDF5.\n",
    "    print(\"Outputting files to HDF5...\")\n",
    "    df_pmt.to_hdf(h5file,key='pmts',complevel=9,complib='zlib')\n",
    "    df_photons.to_hdf(h5file,key='photons',complevel=9,complib='zlib')\n",
    "\n",
    "else:\n",
    "    \n",
    "    # Read the dataframes from HDF5.\n",
    "    print(\"Reading the dataframes from HDF5...\")\n",
    "    df_pmt = pd.read_hdf(h5file,key='pmts')\n",
    "    df_photons = pd.read_hdf(h5file,key='photons')"
   ]
  },
  {
   "cell_type": "code",
   "execution_count": null,
   "metadata": {
    "scrolled": false
   },
   "outputs": [],
   "source": [
    "# Show a few rows of the PMTs dataframe.\n",
    "df_pmt.head()"
   ]
  },
  {
   "cell_type": "code",
   "execution_count": null,
   "metadata": {
    "scrolled": true
   },
   "outputs": [],
   "source": [
    "# Show a few rows of the photons dataframe.\n",
    "df_photons.head()"
   ]
  },
  {
   "cell_type": "code",
   "execution_count": null,
   "metadata": {},
   "outputs": [],
   "source": [
    "plt.hist(df_photons['energy'],bins=50)"
   ]
  },
  {
   "cell_type": "markdown",
   "metadata": {},
   "source": [
    "### Processing for multi-energy gammas"
   ]
  },
  {
   "cell_type": "code",
   "execution_count": null,
   "metadata": {},
   "outputs": [],
   "source": [
    "ewidth = 0.2\n",
    "npmts = 2507\n",
    "ebands = np.arange(0,10.0,ewidth)\n",
    "\n",
    "avg_dict = {}\n",
    "for emin in ebands:\n",
    "    \n",
    "    # Compute the emax for this band.\n",
    "    emax = emin + ewidth\n",
    "    \n",
    "    # Set the values in the average dictionary.\n",
    "    avg_dict.setdefault('emin',[])\n",
    "    avg_dict.setdefault('emax',[])\n",
    "    avg_dict.setdefault('nevts',[])\n",
    "    \n",
    "    # Set the emin and emax in the dictionary.\n",
    "    avg_dict['emin'].append(emin)\n",
    "    avg_dict['emax'].append(emax)\n",
    "    \n",
    "    # Select all events in this energy range.\n",
    "    df = df_photons[(df_photons.energy > emin) & (df_photons.energy <= emax)]\n",
    "    \n",
    "    avg_dict['nevts'].append(len(df))\n",
    "    \n",
    "    # Compute the average number of photons per event for all PMTs.\n",
    "    for npmt in range(npmts):\n",
    "        \n",
    "        pmt_str = 'pmt{}'.format(npmt+1)\n",
    "        \n",
    "        if(len(df) > 0):\n",
    "            pmt_avg = df[pmt_str].mean()\n",
    "        else:\n",
    "            pmt_avg = 0.\n",
    "            \n",
    "        avg_dict.setdefault(pmt_str,[])\n",
    "        avg_dict[pmt_str].append(pmt_avg)\n",
    "        \n",
    "# Make a new dataframe from the average dictionary.\n",
    "df_avg = pd.DataFrame.from_dict(avg_dict)"
   ]
  },
  {
   "cell_type": "code",
   "execution_count": null,
   "metadata": {},
   "outputs": [],
   "source": [
    "# Make the plot of average number of photons per gamma.\n",
    "pmt_sums = df_avg.loc[:, (df_avg.columns != 'nevts') & (df_avg.columns != 'emin') & (df_avg.columns != 'emax')].sum()\n",
    "pmt_max = pmt_sums.idxmin()\n",
    "\n",
    "eplt = ((df_avg['emin'] + df_avg['emax'])/2).values\n",
    "spes = df_avg[pmt_max].values\n",
    "spes_err = np.nan_to_num(np.sqrt(spes/df_avg['nevts'].values))"
   ]
  },
  {
   "cell_type": "code",
   "execution_count": null,
   "metadata": {
    "scrolled": true
   },
   "outputs": [],
   "source": [
    "plt.errorbar(eplt,spes,xerr=np.ones(len(spes))*ewidth/1,yerr=spes_err,ls='',marker='.',markersize=5)\n",
    "plt.xlabel(\"E$_{\\gamma}$ (MeV)\")\n",
    "plt.ylabel(\"SPEs/gamma\")"
   ]
  },
  {
   "cell_type": "markdown",
   "metadata": {},
   "source": [
    "# 2. Determine the gamma spectrum from the source"
   ]
  },
  {
   "cell_type": "code",
   "execution_count": null,
   "metadata": {},
   "outputs": [],
   "source": [
    "def read_hdf5_to_df(fname):\n",
    "    \"\"\"\n",
    "    Reads an output HDF5 file from the nisource Geant4 simulation into a Pandas DataFrame.\n",
    "    \"\"\"\n",
    "    \n",
    "    # Open the file and get the ntuple.\n",
    "    fn = h5py.File(fname,'r')\n",
    "    ntuple = fn['default_ntuples']['nisource']\n",
    "    \n",
    "    # Fill a dictionary with the ntuple column values.\n",
    "    df_values = {}\n",
    "    for col in list(ntuple):\n",
    "\n",
    "        # Only process H5 groups with actual data.\n",
    "        if(isinstance(ntuple[col],h5py._hl.group.Group)):\n",
    "            #print(\"Adding column\",col,\"...\")\n",
    "            if(ntuple[col]['pages'].dtype == object):\n",
    "                df_values[col] = [x.decode('utf-8') for x in ntuple[col]['pages'][:]]\n",
    "            else:\n",
    "                df_values[col] = ntuple[col]['pages'][:]\n",
    "             \n",
    "    # Create the dataframe.\n",
    "    df = pd.DataFrame.from_dict(df_values)\n",
    "    \n",
    "    # Add composite columns.\n",
    "    ri = (df.xi**2 + df.yi**2 + df.zi**2)**0.5\n",
    "    rf = (df.xf**2 + df.yf**2 + df.zf**2)**0.5\n",
    "    Ki = (df.pxi**2 + df.pyi**2 + df.pzi**2 + df.mass**2)**0.5 - df.mass\n",
    "    Kf = (df.pxf**2 + df.pyf**2 + df.pzf**2 + df.mass**2)**0.5 - df.mass\n",
    "    \n",
    "    df['ri'] = ri  # initial radius\n",
    "    df['rf'] = rf  # final radius\n",
    "    df['Ki'] = Ki  # initial kinetic energy\n",
    "    df['Kf'] = Kf  # final kinetic energy\n",
    "    \n",
    "    # Compute time since initial decay.\n",
    "    timin_evts = pd.DataFrame(df[df.ti > 0].groupby(['event'])['ti'].min())\n",
    "    timin_evts = timin_evts.rename(columns={\"ti\": \"ti_min\"})\n",
    "    df = pd.merge(df, timin_evts, on='event', how='outer')\n",
    "    \n",
    "    return df"
   ]
  },
  {
   "cell_type": "code",
   "execution_count": null,
   "metadata": {},
   "outputs": [],
   "source": [
    "# Read in the results from HDF5.\n",
    "df = read_hdf5_to_df('/data/jrenner/hk/standard/nicf_source_ntuple_100k_7cm.hdf5')\n",
    "df.head()"
   ]
  },
  {
   "cell_type": "code",
   "execution_count": null,
   "metadata": {},
   "outputs": [],
   "source": [
    "# Select gamma events that made it out of the source, with a time cut of 10 years.\n",
    "Nevts = len(np.unique(df['event'].values))\n",
    "years = (365*24*60*60*1.0e9)  # number of ns in a year\n",
    "df_gammas_world = df[(df.particleName == 'gamma') & (df.volFinal == 'World')]\n",
    "df_gammas_world_timecut = df_gammas_world[(df_gammas_world.ti < 10*years)]"
   ]
  },
  {
   "cell_type": "code",
   "execution_count": null,
   "metadata": {
    "scrolled": true
   },
   "outputs": [],
   "source": [
    "tcut1 = 0.5*years\n",
    "tcut2 = 1*years\n",
    "tcut3 = 10*years\n",
    "\n",
    "fig = plt.figure(1)\n",
    "fig.patch.set_alpha(0.0)\n",
    "fig.set_figheight(4.0)\n",
    "fig.set_figwidth(15.0)\n",
    "\n",
    "# Without normalization\n",
    "normed = False\n",
    "ax1 = fig.add_subplot(121)\n",
    "plt.hist(df_gammas_world.Kf,bins=100,density=normed,label=\"No time cut\",color='red')\n",
    "plt.hist(df_gammas_world[(df_gammas_world.ti < tcut3)].Kf,bins=100,density=normed,label=\"t < 10 years\",color='green')\n",
    "plt.hist(df_gammas_world[(df_gammas_world.ti < tcut2)].Kf,bins=100,density=normed,label=\"t < 1 year\",color='blue')\n",
    "plt.hist(df_gammas_world[(df_gammas_world.ti < tcut1)].Kf,bins=100,density=normed,label=\"t < 0.5 years\",color='black')\n",
    "plt.xlabel('Energy (MeV)')\n",
    "plt.ylabel('Counts/bin')\n",
    "plt.yscale(\"log\")\n",
    "plt.legend()\n",
    "\n",
    "normed = True\n",
    "ax2 = fig.add_subplot(122)\n",
    "plt.hist(df_gammas_world[(df_gammas_world.ti < tcut3)].Kf,bins=100,density=normed,label=\"t < 10 years\",color='green')\n",
    "plt.hist(df_gammas_world[(df_gammas_world.ti < tcut2)].Kf,bins=100,density=normed,label=\"t < 1 year\",color='blue')\n",
    "plt.hist(df_gammas_world[(df_gammas_world.ti < tcut1)].Kf,bins=100,density=normed,label=\"t < 0.5 years\",color='black')\n",
    "plt.hist(df_gammas_world.Kf,bins=100,density=normed,label=\"No time cut\",color='red')\n",
    "plt.xlabel('Energy (MeV)')\n",
    "plt.ylabel('Counts/bin')\n",
    "plt.yscale(\"log\")\n",
    "plt.title(\"(Normalized)\")\n",
    "plt.legend()"
   ]
  },
  {
   "cell_type": "code",
   "execution_count": null,
   "metadata": {},
   "outputs": [],
   "source": [
    "# Full gamma spectrum (no range restriction).\n",
    "hfull, _, _ = plt.hist(df_gammas_world_timecut.Kf,bins=50,label=\"t < 10 years\",color='green')\n",
    "plt.xlabel('Energy (MeV)')\n",
    "plt.ylabel('Counts/bin')\n",
    "#plt.yscale('log')\n",
    "plt.legend()\n",
    "print(\"Total number of gammas:\",np.sum(hfull))"
   ]
  },
  {
   "cell_type": "code",
   "execution_count": null,
   "metadata": {
    "scrolled": false
   },
   "outputs": [],
   "source": [
    "# Make the final gamma spectrum.\n",
    "hgammas, hbins, _ = plt.hist(df_gammas_world_timecut.Kf,bins=50,label=\"t < 10 years\",color='green',range=[0,10])\n",
    "plt.xlabel('Energy (MeV)')\n",
    "plt.ylabel('Counts/bin')\n",
    "#plt.yscale('log')\n",
    "plt.legend()\n",
    "print(\"Total number of gammas:\",np.sum(hgammas))"
   ]
  },
  {
   "cell_type": "code",
   "execution_count": null,
   "metadata": {
    "scrolled": true
   },
   "outputs": [],
   "source": [
    "# Multiply (gammas/decay/dE) * (SPEs/gamma) to get SPE spectrum.\n",
    "hbin_centers = (hbins[:-1] + hbins[1:])/2\n",
    "spe_spectrum = np.array(hgammas*spes/Nevts)\n",
    "plt.bar(hbin_centers, spe_spectrum, align='center', width=0.2)\n",
    "plt.xlabel('Energy (MeV)')\n",
    "plt.ylabel('SPEs/decay/bin')\n",
    "plt.yscale('log')\n",
    "plt.title(\"Total SPEs/decay = {:.2e}\".format(np.sum(spe_spectrum)))\n",
    "print(\"Aligned bins:\",(hbin_centers - eplt < 1e-6).all())"
   ]
  },
  {
   "cell_type": "code",
   "execution_count": null,
   "metadata": {},
   "outputs": [],
   "source": []
  },
  {
   "cell_type": "markdown",
   "metadata": {},
   "source": [
    "### PMT processing for all gammas"
   ]
  },
  {
   "cell_type": "code",
   "execution_count": null,
   "metadata": {},
   "outputs": [],
   "source": [
    "plt.hist()"
   ]
  },
  {
   "cell_type": "code",
   "execution_count": null,
   "metadata": {},
   "outputs": [],
   "source": [
    "# Compute key quantities for each PMT, including the mean number of photons per event.\n",
    "N = len(df_photons)\n",
    "pmt_mu, pmt_err, pmt_r, pmt_phi = [], [], [], []\n",
    "print(\"Processing\",N,\"events...\")\n",
    "for npmt in range(2508):\n",
    "    pmtID = npmt+1\n",
    "    tag = 'pmt{}'.format(pmtID)\n",
    "    print(\"tag is \",tag)\n",
    "    x = df_pmt[df_pmt.pmt == pmtID]['x'].values[0]    \n",
    "    y = df_pmt[df_pmt.pmt == pmtID]['y'].values[0]    \n",
    "    z = df_pmt[df_pmt.pmt == pmtID]['z'].values[0]    \n",
    "    \n",
    "    pmt_mu.append(df_photons[tag].mean())\n",
    "    pmt_err.append(df_photons[tag].std()/np.sqrt(N))\n",
    "    pmt_r.append(np.sqrt(x**2 + y**2 + z**2))\n",
    "    pmt_phi.append(np.arctan2(y,x))"
   ]
  },
  {
   "cell_type": "code",
   "execution_count": null,
   "metadata": {},
   "outputs": [],
   "source": [
    "# Add the computed quantities to the PMT dataframe.\n",
    "df_pmt['mu_photons'] = pmt_mu\n",
    "df_pmt['err_photons'] = pmt_err\n",
    "df_pmt['r'] = pmt_r\n",
    "df_pmt['phi'] = pmt_phi"
   ]
  },
  {
   "cell_type": "markdown",
   "metadata": {},
   "source": [
    "## Plots"
   ]
  },
  {
   "cell_type": "code",
   "execution_count": null,
   "metadata": {},
   "outputs": [],
   "source": [
    "# A binned profile plot.\n",
    "def profile_plot(X,Y,Yerr=None,nbins=10):\n",
    "    \n",
    "    # Use 1's for Yerr if none specified.\n",
    "    if(Yerr is None):\n",
    "        Yerr = np.ones(len(X))\n",
    "    \n",
    "    # Compute the bins.\n",
    "    xmax = np.max(X)\n",
    "    xmin = np.min(X)\n",
    "    wbin = (xmax - xmin)/nbins\n",
    "    xvals = np.arange(xmin,xmax,wbin) + wbin/2  # bin centers\n",
    "    xerrs = np.ones(len(xvals))*wbin/2\n",
    "    \n",
    "    # Bin the values.\n",
    "    nentries = np.zeros(nbins)\n",
    "    yvals = np.zeros(nbins)\n",
    "    yerrs = np.zeros(nbins)\n",
    "    for xx,yy,yye in zip(X,Y,Yerr):\n",
    "        nbin = int((xx - xmin)/wbin)\n",
    "        if(nbin == nbins): nbin = nbins-1   # place xmax value in last bin\n",
    "        yvals[nbin] += yy\n",
    "        yerrs[nbin] += yye**2\n",
    "        nentries[nbin] += 1\n",
    "    \n",
    "    # Normalize.\n",
    "    yvals /= nentries\n",
    "    yerrs = np.sqrt(yerrs)/nentries\n",
    "    \n",
    "    return xvals,xerrs,yvals,yerrs"
   ]
  },
  {
   "cell_type": "code",
   "execution_count": null,
   "metadata": {},
   "outputs": [],
   "source": [
    "# Unbinned plot of mean number of events per PMT vs. PMT z.\n",
    "fig = plt.figure()\n",
    "fig.set_figheight(4.0)\n",
    "fig.set_figwidth(16.0)\n",
    "plt.plot(df_pmt['z'].values,df_pmt['mu_photons'].values,'.')\n",
    "plt.xlabel(\"Z$_{\\mathrm{PMT}}$ (cm)\",fontsize=14)\n",
    "plt.ylabel(\"SPE probability\",fontsize=14)\n"
   ]
  },
  {
   "cell_type": "code",
   "execution_count": null,
   "metadata": {},
   "outputs": [],
   "source": [
    "# Binned (profile) plot of mean number of events per PMT vs. PMT z.\n",
    "fig = plt.figure()\n",
    "fig.set_figheight(4.0)\n",
    "fig.set_figwidth(16.0)\n",
    "xvals,xerrs,yvals,yerrs = profile_plot(df_pmt['z'].values,df_pmt['mu_photons'].values,df_pmt['err_photons'].values,25)\n",
    "plt.errorbar(xvals,yvals,xerr=xerrs,yerr=yerrs)\n",
    "plt.xlabel(\"Z$_{\\mathrm{PMT}}$ (cm)\",fontsize=14)\n",
    "plt.ylabel(\"SPE probability\",fontsize=14)"
   ]
  },
  {
   "cell_type": "code",
   "execution_count": null,
   "metadata": {},
   "outputs": [],
   "source": [
    "# An \"event display\"-style PMT plot.\n",
    "#def pmts_plot(dfpmt, rxy=300, zlim=285, margin=20):\n",
    "def pmts_plot(dfpmt, rxy=369.6, zlim=150, margin=20):\n",
    "    \n",
    "    ell_radius = 2\n",
    "    x = dfpmt['x'].values\n",
    "    y = dfpmt['y'].values\n",
    "    z = dfpmt['z'].values\n",
    "    spe = dfpmt['mu_photons'].values\n",
    "    phi = np.arctan2(y,x) + np.pi\n",
    "    \n",
    "    cmap = matplotlib.cm.get_cmap('jet')\n",
    "    \n",
    "    spe_max = np.max(spe)\n",
    "    spe_min = np.min(spe)\n",
    "    #rxy = np.sqrt(x**2 + y**2)\n",
    "    x_uw = rxy*phi\n",
    "    \n",
    "    fig = plt.figure()\n",
    "    fig.set_figheight(18.0)\n",
    "    fig.set_figwidth(21.0)\n",
    "    \n",
    "    ax_cbar = fig.add_subplot(3,12,10)\n",
    "    cbar = matplotlib.colorbar.ColorbarBase(ax_cbar, cmap=cmap,\n",
    "                       norm=matplotlib.colors.Normalize(vmin=spe_min, vmax=spe_max))\n",
    "    \n",
    "    # Plot the upper lid.\n",
    "    x_ulid = x[z > zlim]\n",
    "    y_ulid = y[z > zlim]\n",
    "    spe_ulid = spe[z > zlim]\n",
    "    ax_ulid = fig.add_subplot(3,3,2)\n",
    "    ax_ulid.set_xlim(np.min(x_ulid)-margin,np.max(x_ulid)+margin)\n",
    "    ax_ulid.set_ylim(np.min(y_ulid)-margin,np.max(y_ulid)+margin)\n",
    "    ax_ulid.set_title(\"UPPER LID\")\n",
    "    ax_ulid.set_xlabel(\"x (cm)\")\n",
    "    ax_ulid.set_ylabel(\"y (cm)\")\n",
    "    for xplt,yplt,prob in zip(x_ulid,y_ulid,spe_ulid):\n",
    "        col = cmap((prob - spe_min)/(spe_max - spe_min))\n",
    "        ellipse = Ellipse((xplt, yplt), width=ell_radius * 2, height=ell_radius * 2, facecolor=col)\n",
    "        ax_ulid.add_patch(ellipse)\n",
    "    \n",
    "    # Plot the cylinder\n",
    "    xuw_cyl = x_uw[(z < zlim) & (z > -zlim)]\n",
    "    z_cyl = z[(z < zlim) & (z > -zlim)]\n",
    "    spe_cyl = spe[(z < zlim) & (z > -zlim)]\n",
    "    ax_cyl = fig.add_subplot(3,1,2)\n",
    "    ax_cyl.set_xlim(np.min(xuw_cyl)-margin,np.max(xuw_cyl)+margin)\n",
    "    ax_cyl.set_ylim(np.min(z_cyl)-margin,np.max(z_cyl)+margin)\n",
    "    ax_cyl.set_title(\"CYLINDER\")\n",
    "    ax_cyl.set_xlabel(\"distance along cylinder (cm)\")\n",
    "    ax_cyl.set_ylabel(\"z (cm)\")\n",
    "    for xplt,yplt,prob in zip(xuw_cyl,z_cyl,spe_cyl):\n",
    "        col = cmap((prob - spe_min)/(spe_max - spe_min))\n",
    "        ellipse = Ellipse((xplt, yplt), width=ell_radius * 2, height=ell_radius * 2, facecolor=col)\n",
    "        ax_cyl.add_patch(ellipse)\n",
    "        \n",
    "    # Plot the lower lid.\n",
    "    x_llid = x[z < -zlim]\n",
    "    y_llid = y[z < -zlim]\n",
    "    spe_llid = spe[z < -zlim]\n",
    "    ax_llid = fig.add_subplot(3,3,8)\n",
    "    ax_llid.set_xlim(np.min(x_llid)-margin,np.max(x_llid)+margin)\n",
    "    ax_llid.set_ylim(np.min(y_llid)-margin,np.max(y_llid)+margin)\n",
    "    ax_llid.set_title(\"LOWER LID\")\n",
    "    ax_llid.set_xlabel(\"x (cm)\")\n",
    "    ax_llid.set_ylabel(\"y (cm)\")\n",
    "    for xplt,yplt,prob in zip(x_llid,y_llid,spe_llid):\n",
    "        col = cmap((prob - spe_min)/(spe_max - spe_min))\n",
    "        ellipse = Ellipse((xplt, yplt), width=ell_radius * 2, height=ell_radius * 2, facecolor=col)\n",
    "        ax_llid.add_patch(ellipse)"
   ]
  },
  {
   "cell_type": "code",
   "execution_count": null,
   "metadata": {},
   "outputs": [],
   "source": [
    "pmts_plot(df_pmt)"
   ]
  },
  {
   "cell_type": "code",
   "execution_count": null,
   "metadata": {},
   "outputs": [],
   "source": []
  }
 ],
 "metadata": {
  "kernelspec": {
   "display_name": "Python 3 (ipykernel)",
   "language": "python",
   "name": "python3"
  },
  "language_info": {
   "codemirror_mode": {
    "name": "ipython",
    "version": 3
   },
   "file_extension": ".py",
   "mimetype": "text/x-python",
   "name": "python",
   "nbconvert_exporter": "python",
   "pygments_lexer": "ipython3",
   "version": "3.9.7"
  }
 },
 "nbformat": 4,
 "nbformat_minor": 4
}
